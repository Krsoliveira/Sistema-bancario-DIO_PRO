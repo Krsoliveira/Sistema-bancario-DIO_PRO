{
 "cells": [
  {
   "cell_type": "markdown",
   "metadata": {},
   "source": [
    "### Projeto simples de um sostema bancario \n",
    "\n",
    "--> funções principais:\n",
    "    Sacar com limite de 3 saques diarios, cada saque de no máximo 500 reais\n",
    "    depositar \n",
    "    Extrato --> com todas movimentações."
   ]
  },
  {
   "cell_type": "code",
   "execution_count": 3,
   "metadata": {},
   "outputs": [
    {
     "name": "stdout",
     "output_type": "stream",
     "text": [
      "Depósito de R$ 1000.00 realizado com sucesso.\n",
      "Saque de R$ 200.00 realizado com sucesso.\n",
      "Saque de R$ 300.00 realizado com sucesso.\n",
      "Saque de R$ 100.00 realizado com sucesso.\n",
      "\n",
      "📄 Extrato Bancário:\n",
      "Depósito: +R$ 1000.00\n",
      "Saque: -R$ 200.00\n",
      "Saque: -R$ 300.00\n",
      "Saque: -R$ 100.00\n",
      "\n",
      "Saldo atual: R$ 400.00\n",
      "\n"
     ]
    }
   ],
   "source": [
    "# Variáveis globais\n",
    "saldo = 0\n",
    "limite_saque = 500\n",
    "saques_realizados = 0\n",
    "limite_saques_diarios = 3\n",
    "extrato = []\n",
    "\n",
    "def depositar(valor):\n",
    "    global saldo\n",
    "    if valor > 0:\n",
    "        saldo += valor\n",
    "        extrato.append(f\"Depósito: +R$ {valor:.2f}\")\n",
    "        print(f\"Depósito de R$ {valor:.2f} realizado com sucesso.\")\n",
    "    else:\n",
    "        print(\"Valor inválido para depósito.\")\n",
    "\n",
    "def sacar(valor):\n",
    "    global saldo, saques_realizados\n",
    "    if saques_realizados >= limite_saques_diarios:\n",
    "        print(\"Limite diário de saques atingido.\")\n",
    "    elif valor > limite_saque:\n",
    "        print(f\"Limite por saque é de R$ {limite_saque:.2f}.\")\n",
    "    elif valor > saldo:\n",
    "        print(\"Saldo insuficiente.\")\n",
    "    elif valor <= 0:\n",
    "        print(\"Valor inválido para saque.\")\n",
    "    else:\n",
    "        saldo -= valor\n",
    "        saques_realizados += 1\n",
    "        extrato.append(f\"Saque: -R$ {valor:.2f}\")\n",
    "        print(f\"Saque de R$ {valor:.2f} realizado com sucesso.\")\n",
    "\n",
    "def mostrar_extrato():\n",
    "    print(\"\\n📄 Extrato Bancário:\")\n",
    "    if not extrato:\n",
    "        print(\"Nenhuma movimentação realizada.\")\n",
    "    else:\n",
    "        for operacao in extrato:\n",
    "            print(operacao)\n",
    "    print(f\"\\nSaldo atual: R$ {saldo:.2f}\\n\")\n",
    "\n",
    "# Exemplo de uso\n",
    "depositar(1000)\n",
    "sacar(200)\n",
    "sacar(300)\n",
    "sacar(100)  # Este será bloqueado por limite de saques\n",
    "mostrar_extrato()"
   ]
  },
  {
   "cell_type": "markdown",
   "metadata": {},
   "source": []
  },
  {
   "cell_type": "markdown",
   "metadata": {},
   "source": []
  }
 ],
 "metadata": {
  "kernelspec": {
   "display_name": "Python 3",
   "language": "python",
   "name": "python3"
  },
  "language_info": {
   "codemirror_mode": {
    "name": "ipython",
    "version": 3
   },
   "file_extension": ".py",
   "mimetype": "text/x-python",
   "name": "python",
   "nbconvert_exporter": "python",
   "pygments_lexer": "ipython3",
   "version": "3.13.3"
  }
 },
 "nbformat": 4,
 "nbformat_minor": 2
}
